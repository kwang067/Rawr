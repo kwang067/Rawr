   "cell_type": "code",
   "execution_count": 1,
   "metadata": {},
   "outputs": [],
   "source": [
    "def answer1():\n",
    "    answer1attempts = 1\n",
    "    while clist[0] != 3:\n",
    "        x = random.choice(pos[0])\n",
    "        if x == 3:\n",
    "            clist.append(x)\n",
    "            break\n",
    "#        print(\"this is from answer1\")\n",
    "#        print(answer1attempts)\n",
    "#        print(x)\n",
    "        pos[0].remove(x)\n",
    "        answer1attempts+=1\n",
    "    print(f\"It took {answer1attempts}  attempts for number 1\")"
   ]
  },
  {
   "cell_type": "code",
   "execution_count": 2,
   "metadata": {},
   "outputs": [],
   "source": [
    "def answer2():\n",
    "    answer2attempts = 1\n",
    "    while clist[1] != 5:\n",
    "        x = random.choice(pos[1])\n",
    "        if x == 5:\n",
    "            clist.append(x)\n",
    "            break\n",
    "#        print(\"this is from answer2\")   \n",
    "#        print(x)\n",
    "        pos[1].remove(x)\n",
    "        answer2attempts+=1\n",
    "    print(f\"It took {answer2attempts}  attempts for number 2\")"
   ]
  },
  {
   "cell_type": "code",
   "execution_count": 3,
   "metadata": {},
   "outputs": [],
   "source": [
    "def answer3():\n",
    "    answer3attempts = 1\n",
    "    while clist[2] != 54:\n",
    "        x = random.choice(pos[2])\n",
    "        if x == 54:\n",
    "            clist.append(x)\n",
    "            break\n",
    "#        print(\"this is from answer3\")\n",
    "#        print(answer1attempts)\n",
    "#        print(x)\n",
    "        pos[2].remove(x)\n",
    "        answer3attempts+=1\n",
    "    print(f\"It took {answer3attempts}  attempts for number 3\")"
   ]
  },
  {
   "cell_type": "code",
   "execution_count": 4,
   "metadata": {},
   "outputs": [],
   "source": [
    "def answer4():\n",
    "    answer4attempts = 1\n",
    "    while clist[3] != 76:\n",
    "        x = random.choice(pos[3])\n",
    "        if x == 76:\n",
    "            clist.append(x)\n",
    "            break\n",
    "#        print(\"this is from answer4\")\n",
    "#        print(answer1attempts)\n",
    "#        print(x)\n",
    "        pos[3].remove(x)\n",
    "        answer4attempts+=1\n",
    "    print(f\"It took {answer4attempts}  attempts for number 4\")"
   ]
  },
  {
   "cell_type": "code",
   "execution_count": 5,
   "metadata": {},
   "outputs": [],
   "source": [
    "def answer5():\n",
    "    answer5attempts = 1\n",
    "    while clist[4] != 26:\n",
    "        x = random.choice(pos[4])\n",
    "        if x == 26:\n",
    "            clist.append(x)\n",
    "            break\n",
    "#        print(\"this is from answer5\")\n",
    "#        print(answer1attempts)\n",
    "#        print(x)\n",
    "        pos[4].remove(x)\n",
    "        answer5attempts+=1\n",
    "    print(f\"It took {answer5attempts}  attempts for number 5\")"
   ]
  },
  {
   "cell_type": "code",
   "execution_count": 6,
   "metadata": {},
   "outputs": [],
   "source": [
    "def answer6():\n",
    "    answer6attempts = 1\n",
    "    while clist[5] != 81:\n",
    "        x = random.choice(pos[5])\n",
    "        if x == 81:\n",
    "            clist.append(x)\n",
    "            break\n",
    "#        print(\"this is from answer6\")\n",
    "#        print(answer1attempts)\n",
    "#        print(x)\n",
    "        pos[5].remove(x)\n",
    "        answer6attempts+=1\n",
    "    print(f\"It took {answer6attempts}  attempts for number 6\")"
   ]
  },
  {
   "cell_type": "code",
   "execution_count": null,
   "metadata": {},
   "outputs": [],
   "source": []
  },
  {
   "cell_type": "code",
   "execution_count": 8,
   "metadata": {},
   "outputs": [
    {
     "name": "stdout",
     "output_type": "stream",
     "text": [
      "It took 24516  attempts for number 1\n",
      "It took 57678  attempts for number 2\n",
      "It took 57722  attempts for number 3\n",
      "It took 91309  attempts for number 4\n",
      "It took 90653  attempts for number 5\n",
      "It took 16254  attempts for number 6\n",
      "[3, 5, 54, 76, 26, 81]\n"
     ]
    }
   ],
   "source": [
    "import random\n",
    "pos = [list(range(1,100000)),list(range(1,100000)),list(range(1,100000)),list(range(1,100000)),list(range(1,100000)),list(range(1,100000))]\n",
    "clist = [0]\n",
    "\n",
    "\n",
    "answer1()\n",
    "answer2()\n",
    "answer3()\n",
    "answer4()\n",
    "answer5()\n",
    "answer6()\n",
    "clist.pop(0)\n",
    "print(clist)\n",
    "#print(answer1attempts)\n",
    "#print(answer2attempts)"
   ]
  },
  {
   "cell_type": "code",
   "execution_count": null,
   "metadata": {},
   "outputs": [],
   "source": []
  },
  {
   "cell_type": "code",
   "execution_count": null,
   "metadata": {},
   "outputs": [],
   "source": []
  },
  {
   "cell_type": "code",
   "execution_count": null,
   "metadata": {},
   "outputs": [],
   "source": []
  },
  {
   "cell_type": "code",
   "execution_count": null,
   "metadata": {},
   "outputs": [],
   "source": []
  },
  {
   "cell_type": "code",
   "execution_count": null,
   "metadata": {},
   "outputs": [],
   "source": []
  },
  {
   "cell_type": "code",
   "execution_count": null,
   "metadata": {},
   "outputs": [],
   "source": []
  },
  {
   "cell_type": "code",
   "execution_count": null,
   "metadata": {},
   "outputs": [],
   "source": []
  },
  {
   "cell_type": "code",
   "execution_count": null,
   "metadata": {},
   "outputs": [],
   "source": []
  },
  {
   "cell_type": "code",
   "execution_count": null,
   "metadata": {},
   "outputs": [],
   "source": []
  },
  {
   "cell_type": "code",
   "execution_count": null,
   "metadata": {},
   "outputs": [],
   "source": []
  },
  {
   "cell_type": "code",
   "execution_count": null,
   "metadata": {},
   "outputs": [],
   "source": []
  },
  {
   "cell_type": "code",
   "execution_count": null,
   "metadata": {},
   "outputs": [],
   "source": []
  },
  {
   "cell_type": "code",
   "execution_count": null,
   "metadata": {},
   "outputs": [],
   "source": []
  },
  {
   "cell_type": "code",
   "execution_count": null,
   "metadata": {},
   "outputs": [],
   "source": []
  },
  {
   "cell_type": "code",
   "execution_count": null,
   "metadata": {},
   "outputs": [],
   "source": []
  },
  {
   "cell_type": "code",
   "execution_count": null,
   "metadata": {},
   "outputs": [],
   "source": []
  },
  {
   "cell_type": "code",
   "execution_count": null,
   "metadata": {},
   "outputs": [],
   "source": []
  },
  {
   "cell_type": "code",
   "execution_count": null,
   "metadata": {},
   "outputs": [],
   "source": []
  },
  {
   "cell_type": "code",
   "execution_count": null,
   "metadata": {},
   "outputs": [],
   "source": []
  },
  {
   "cell_type": "code",
   "execution_count": null,
   "metadata": {},
   "outputs": [],
   "source": []
  },
  {
   "cell_type": "code",
   "execution_count": null,
   "metadata": {},
   "outputs": [],
   "source": []
  },
  {
   "cell_type": "code",
   "execution_count": null,
   "metadata": {},
   "outputs": [],
   "source": []
  },
  {
   "cell_type": "code",
   "execution_count": null,
   "metadata": {},
   "outputs": [],
   "source": []
  },
  {
   "cell_type": "code",
   "execution_count": null,
   "metadata": {},
   "outputs": [],
   "source": []
  },
  {
   "cell_type": "code",
   "execution_count": null,
   "metadata": {},
   "outputs": [],
   "source": []
  }
 ],
 "metadata": {
  "kernelspec": {
   "display_name": "Python 3",
   "language": "python",
   "name": "python3"
  },
  "language_info": {
   "codemirror_mode": {
    "name": "ipython",
    "version": 3
   },
   "file_extension": ".py",
   "mimetype": "text/x-python",
   "name": "python",
   "nbconvert_exporter": "python",
   "pygments_lexer": "ipython3",
   "version": "3.7.1"
  }
 },
 "nbformat": 4,
 "nbformat_minor": 2
}
